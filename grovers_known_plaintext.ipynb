{
 "cells": [
  {
   "cell_type": "code",
   "execution_count": 1,
   "id": "d5d23e43",
   "metadata": {},
   "outputs": [],
   "source": [
    "from qiskit import *\n",
    "from qiskit.tools.visualization import plot_histogram\n",
    "from qiskit.tools.monitor import job_monitor\n",
    "from qiskit_ibm_provider import IBMProvider\n",
    "import math"
   ]
  },
  {
   "cell_type": "code",
   "execution_count": 2,
   "id": "36cd00de",
   "metadata": {},
   "outputs": [],
   "source": [
    "def create_circuit(num_bits):\n",
    "    circuit = QuantumCircuit(num_bits, num_bits)\n",
    "    circuit.h(range(num_bits)) \n",
    "    return circuit"
   ]
  },
  {
   "cell_type": "code",
   "execution_count": 3,
   "id": "f79dcd92",
   "metadata": {},
   "outputs": [],
   "source": [
    "def string_to_blocks(strng):\n",
    "    blocks = []\n",
    "    for char in strng:\n",
    "        blocks.append((ord(char)))\n",
    "    return blocks"
   ]
  },
  {
   "cell_type": "code",
   "execution_count": 4,
   "id": "dda13b34",
   "metadata": {},
   "outputs": [],
   "source": [
    "def block_xor(key, block):\n",
    "    return key ^ block\n",
    "\n",
    "def block_cipher(key, plaintext_blocks):\n",
    "    return [block_xor(key, block) for block in plaintext_blocks]\n"
   ]
  },
  {
   "cell_type": "code",
   "execution_count": 5,
   "id": "c14a6501",
   "metadata": {},
   "outputs": [],
   "source": [
    "def oracle(circuit, known_plaintext_blocks, ciphertext_blocks, num_key_qubits):\n",
    "    for block_index, known_plaintext in enumerate(known_plaintext_blocks):\n",
    "        ciphertext = ciphertext_blocks[block_index]\n",
    "\n",
    "        for i in range(num_key_qubits):\n",
    "            if (ciphertext >> i) & 1 == (known_plaintext >> i) & 1:\n",
    "                circuit.x(i)\n",
    "        \n",
    "        circuit.h(num_key_qubits - 1)\n",
    "        circuit.mcx(list(range(num_key_qubits - 1)), num_key_qubits - 1)\n",
    "        circuit.h(num_key_qubits - 1) \n",
    "\n",
    "        for i in range(num_key_qubits):\n",
    "            if (ciphertext >> i) & 1 == (known_plaintext >> i) & 1:\n",
    "                circuit.x(i)\n",
    "\n",
    "    return circuit\n"
   ]
  },
  {
   "cell_type": "code",
   "execution_count": 6,
   "id": "a5755202",
   "metadata": {},
   "outputs": [],
   "source": [
    "def diffuser(circuit, num_qubits):\n",
    "    circuit.h(range(num_qubits))\n",
    "    circuit.x(range(num_qubits))\n",
    "\n",
    "    circuit.h(num_qubits - 1)\n",
    "    circuit.mcx(list(range(num_qubits - 1)), num_qubits - 1)\n",
    "    circuit.h(num_qubits - 1)\n",
    "\n",
    "    circuit.x(range(num_qubits))\n",
    "    circuit.h(range(num_qubits))\n",
    "\n",
    "    return circuit\n"
   ]
  },
  {
   "cell_type": "code",
   "execution_count": null,
   "id": "1ddda355",
   "metadata": {},
   "outputs": [],
   "source": [
    "def main():\n",
    "    key = 0b1011110110\n",
    "    num_bits = 10\n",
    "    known_plaintext = \"Lockheed has field propulsion craft\"\n",
    "    \n",
    "    plaintext_blocks = string_to_blocks(known_plaintext)\n",
    "    ciphertext_blocks = block_cipher(key, plaintext_blocks)\n",
    "\n",
    "    circuit = create_circuit(num_bits)\n",
    "    num_iterations = int(math.sqrt(2**num_bits))\n",
    "    \n",
    "    for _ in range(num_iterations):\n",
    "        circuit = oracle(circuit, plaintext_blocks, ciphertext_blocks, num_bits)\n",
    "        circuit = diffuser(circuit, num_bits)\n",
    "    circuit.measure(range(num_bits), range(num_bits))\n",
    "\n",
    "    simulator = Aer.get_backend('qasm_simulator') \n",
    "    result = execute(circuit, simulator, shots=1024).result()\n",
    "    \n",
    "#     provider = IBMProvider()\n",
    "#     provider.active_account()\n",
    "#     qcomp = provider.get_backend('ibm_kyoto')\n",
    "#     job = execute(circuit, backend = qcomp)\n",
    "#     job_monitor(job)\n",
    "#     result = job.result()\n",
    "    \n",
    "    counts = result.get_counts(circuit)\n",
    "    sorted_counts = dict(sorted(counts.items(), key=lambda item: item[1], reverse=True))\n",
    "    top_counts = dict(list(sorted_counts.items())[:5])\n",
    "    \n",
    "    probable_key = max(counts, key=counts.get)\n",
    "    probable_key = int(probable_key, 2)\n",
    "    decrypted_blocks = block_cipher(probable_key, ciphertext_blocks) # Decrypt using key for verification\n",
    "    \n",
    "    display(plot_histogram(top_counts))\n",
    "    print(f\"Most Probable Key: {format(probable_key, f'0{num_bits}b')}\")\n",
    "    print(plaintext_blocks == decrypted_blocks)"
   ]
  },
  {
   "cell_type": "code",
   "execution_count": null,
   "id": "bea9803c",
   "metadata": {},
   "outputs": [],
   "source": [
    "if __name__ == \"__main__\":\n",
    "    main()"
   ]
  },
  {
   "cell_type": "code",
   "execution_count": null,
   "id": "806a7c9f",
   "metadata": {},
   "outputs": [],
   "source": []
  },
  {
   "cell_type": "code",
   "execution_count": null,
   "id": "1a32aa9e",
   "metadata": {},
   "outputs": [],
   "source": []
  }
 ],
 "metadata": {
  "kernelspec": {
   "display_name": "Python 3 (ipykernel)",
   "language": "python",
   "name": "python3"
  },
  "language_info": {
   "codemirror_mode": {
    "name": "ipython",
    "version": 3
   },
   "file_extension": ".py",
   "mimetype": "text/x-python",
   "name": "python",
   "nbconvert_exporter": "python",
   "pygments_lexer": "ipython3",
   "version": "3.11.5"
  }
 },
 "nbformat": 4,
 "nbformat_minor": 5
}
