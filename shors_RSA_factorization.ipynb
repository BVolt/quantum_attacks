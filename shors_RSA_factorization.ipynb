{
 "cells": [
  {
   "cell_type": "code",
   "execution_count": 4,
   "id": "ef5c9a9d",
   "metadata": {},
   "outputs": [],
   "source": [
    "import math, random, fractions\n",
    "from qiskit import *\n",
    "from qiskit.tools.visualization import plot_histogram\n",
    "from qiskit.tools.monitor import job_monitor\n",
    "from qiskit_ibm_provider import IBMProvider"
   ]
  },
  {
   "cell_type": "code",
   "execution_count": 5,
   "id": "b28f0288",
   "metadata": {},
   "outputs": [],
   "source": [
    "def create_circuit(num_bits):\n",
    "    circuit = QuantumCircuit(num_bits, num_bits)\n",
    "    circuit.h(range(num_bits)) \n",
    "    return circuit\n"
   ]
  },
  {
   "cell_type": "code",
   "execution_count": 6,
   "id": "2c9a0c4e",
   "metadata": {},
   "outputs": [],
   "source": [
    "def fourier_inverse(circuit, n):\n",
    "    for qubit in range(n//2):\n",
    "        circuit.swap(qubit, n-qubit-1)\n",
    "    \n",
    "    for j in range(n):\n",
    "        for m in range(j):\n",
    "            angle = -math.pi/float(2**(j-m))\n",
    "            circuit.cp(angle, m, j)\n",
    "        circuit.h(j)\n",
    "    circuit.barrier()\n",
    "    "
   ]
  },
  {
   "cell_type": "code",
   "execution_count": 7,
   "id": "5f14b57a",
   "metadata": {},
   "outputs": [],
   "source": [
    "def modular_exponentiation(circuit, n, a, N):\n",
    "    for x in range(n):\n",
    "        exponent = 2 ** x \n",
    "        a_exp = (a**exponent) % N \n",
    "\n",
    "        for y in range(n):\n",
    "            if y != x and (a_exp >> y) & 1:\n",
    "                angle = math.pi / exponent\n",
    "                circuit.cp(angle, x, y)\n",
    "    circuit.barrier()\n"
   ]
  },
  {
   "cell_type": "code",
   "execution_count": 8,
   "id": "881a0728",
   "metadata": {},
   "outputs": [],
   "source": [
    "def compute_private_key(p, q, e):\n",
    "    phi_n = (p - 1) * (q - 1) \n",
    "    d = pow(e, -1, phi_n)\n",
    "    return d"
   ]
  },
  {
   "cell_type": "code",
   "execution_count": 9,
   "id": "362f81d3",
   "metadata": {},
   "outputs": [],
   "source": [
    "def shors_algorithm(N):\n",
    "    n = math.ceil(math.log(N, 2))\n",
    "    circuit = create_circuit(n)\n",
    "\n",
    "    a = random.randint(2, N - 1)\n",
    "    while math.gcd(a, N) != 1:\n",
    "        a = random.randint(2, N - 1)\n",
    "\n",
    "    modular_exponentiation(circuit, n, a, N)\n",
    "    fourier_inverse(circuit, n) \n",
    "    circuit.measure(range(n), range(n))\n",
    "    \n",
    "    \n",
    "    simulator = Aer.get_backend('aer_simulator')\n",
    "    result = execute(circuit,simulator, shots=1024).result()\n",
    "    \n",
    "#     provider = IBMProvider()\n",
    "#     provider.active_account()\n",
    "#     qcomp = provider.get_backend('ibm_kyoto')\n",
    "#     job = execute(circuit, backend = qcomp)\n",
    "#     job_monitor(job)\n",
    "#     result = job.result()\n",
    "    \n",
    "    counts = result.get_counts(circuit)\n",
    "    \n",
    "\n",
    "    most_probable = int(max(counts, key=counts.get), 2)\n",
    "    phase = most_probable / (2**n)\n",
    "    frac = fractions.Fraction(phase).limit_denominator(N)\n",
    "    r = frac.denominator\n",
    "    \n",
    "    p = math.gcd(pow(a, r//2) - 1, N)\n",
    "    q = math.gcd(pow(a, r//2) + 1, N)\n",
    "    return p, q, circuit\n"
   ]
  },
  {
   "cell_type": "code",
   "execution_count": 10,
   "id": "819959b3",
   "metadata": {},
   "outputs": [],
   "source": [
    "def main():\n",
    "    N = 15\n",
    "    e = 65537\n",
    "    found = False\n",
    "\n",
    "    while not found:\n",
    "            result = shors_algorithm(N)\n",
    "            if result:\n",
    "                p, q, circuit = result\n",
    "                if p != 1 and q != 1 and p * q == N:\n",
    "                    print(f\"Factors of {N}: {p} and {q}\")\n",
    "                    d = compute_private_key(p, q, e)\n",
    "                    print(f\"Private key: {d}\")\n",
    "                    display(circuit.draw())\n",
    "                    found = True"
   ]
  },
  {
   "cell_type": "code",
   "execution_count": 11,
   "id": "9237316c",
   "metadata": {},
   "outputs": [
    {
     "name": "stdout",
     "output_type": "stream",
     "text": [
      "Factors of 15: 5 and 3\n",
      "Private key: 1\n"
     ]
    },
    {
     "data": {
      "text/html": [
       "<pre style=\"word-wrap: normal;white-space: pre;background: #fff0;line-height: 1.1;font-family: &quot;Courier New&quot;,Courier,monospace\">     ┌───┐                                          ░    ┌───┐               »\n",
       "q_0: ┤ H ├─■──────■──────■────────■────────■────────░──X─┤ H ├─■─────────────»\n",
       "     ├───┤ │P(π)  │      │P(π/2)  │        │        ░  │ └───┘ │P(-π/2) ┌───┐»\n",
       "q_1: ┤ H ├─■──────┼──────■────────┼────────┼────────░──┼───X───■────────┤ H ├»\n",
       "     ├───┤        │               │P(π/4)  │        ░  │   │            └───┘»\n",
       "q_2: ┤ H ├────────┼───────────────■────────┼────────░──┼───X─────────────────»\n",
       "     ├───┤        │P(π)                    │P(π/8)  ░  │                     »\n",
       "q_3: ┤ H ├────────■────────────────────────■────────░──X─────────────────────»\n",
       "     └───┘                                          ░                        »\n",
       "c: 4/════════════════════════════════════════════════════════════════════════»\n",
       "                                                                             »\n",
       "«                                                                  ░ ┌─┐      »\n",
       "«q_0: ─■───────────────────■───────────────────────────────────────░─┤M├──────»\n",
       "«      │                   │                                       ░ └╥┘┌─┐   »\n",
       "«q_1: ─┼─────────■─────────┼──────────────■────────────────────────░──╫─┤M├───»\n",
       "«      │P(-π/4)  │P(-π/2)  │        ┌───┐ │                        ░  ║ └╥┘┌─┐»\n",
       "«q_2: ─■─────────■─────────┼────────┤ H ├─┼─────────■──────────────░──╫──╫─┤M├»\n",
       "«                          │P(-π/8) └───┘ │P(-π/4)  │P(-π/2) ┌───┐ ░  ║  ║ └╥┘»\n",
       "«q_3: ─────────────────────■──────────────■─────────■────────┤ H ├─░──╫──╫──╫─»\n",
       "«                                                            └───┘ ░  ║  ║  ║ »\n",
       "«c: 4/════════════════════════════════════════════════════════════════╩══╩══╩═»\n",
       "«                                                                     0  1  2 »\n",
       "«        \n",
       "«q_0: ───\n",
       "«        \n",
       "«q_1: ───\n",
       "«        \n",
       "«q_2: ───\n",
       "«     ┌─┐\n",
       "«q_3: ┤M├\n",
       "«     └╥┘\n",
       "«c: 4/═╩═\n",
       "«      3 </pre>"
      ],
      "text/plain": [
       "     ┌───┐                                          ░    ┌───┐               »\n",
       "q_0: ┤ H ├─■──────■──────■────────■────────■────────░──X─┤ H ├─■─────────────»\n",
       "     ├───┤ │P(π)  │      │P(π/2)  │        │        ░  │ └───┘ │P(-π/2) ┌───┐»\n",
       "q_1: ┤ H ├─■──────┼──────■────────┼────────┼────────░──┼───X───■────────┤ H ├»\n",
       "     ├───┤        │               │P(π/4)  │        ░  │   │            └───┘»\n",
       "q_2: ┤ H ├────────┼───────────────■────────┼────────░──┼───X─────────────────»\n",
       "     ├───┤        │P(π)                    │P(π/8)  ░  │                     »\n",
       "q_3: ┤ H ├────────■────────────────────────■────────░──X─────────────────────»\n",
       "     └───┘                                          ░                        »\n",
       "c: 4/════════════════════════════════════════════════════════════════════════»\n",
       "                                                                             »\n",
       "«                                                                  ░ ┌─┐      »\n",
       "«q_0: ─■───────────────────■───────────────────────────────────────░─┤M├──────»\n",
       "«      │                   │                                       ░ └╥┘┌─┐   »\n",
       "«q_1: ─┼─────────■─────────┼──────────────■────────────────────────░──╫─┤M├───»\n",
       "«      │P(-π/4)  │P(-π/2)  │        ┌───┐ │                        ░  ║ └╥┘┌─┐»\n",
       "«q_2: ─■─────────■─────────┼────────┤ H ├─┼─────────■──────────────░──╫──╫─┤M├»\n",
       "«                          │P(-π/8) └───┘ │P(-π/4)  │P(-π/2) ┌───┐ ░  ║  ║ └╥┘»\n",
       "«q_3: ─────────────────────■──────────────■─────────■────────┤ H ├─░──╫──╫──╫─»\n",
       "«                                                            └───┘ ░  ║  ║  ║ »\n",
       "«c: 4/════════════════════════════════════════════════════════════════╩══╩══╩═»\n",
       "«                                                                     0  1  2 »\n",
       "«        \n",
       "«q_0: ───\n",
       "«        \n",
       "«q_1: ───\n",
       "«        \n",
       "«q_2: ───\n",
       "«     ┌─┐\n",
       "«q_3: ┤M├\n",
       "«     └╥┘\n",
       "«c: 4/═╩═\n",
       "«      3 "
      ]
     },
     "metadata": {},
     "output_type": "display_data"
    }
   ],
   "source": [
    "if __name__ == \"__main__\":\n",
    "    main()\n"
   ]
  },
  {
   "cell_type": "code",
   "execution_count": null,
   "id": "a33c9327",
   "metadata": {},
   "outputs": [],
   "source": []
  },
  {
   "cell_type": "code",
   "execution_count": null,
   "id": "7f097cfa",
   "metadata": {},
   "outputs": [],
   "source": []
  }
 ],
 "metadata": {
  "kernelspec": {
   "display_name": "Python 3 (ipykernel)",
   "language": "python",
   "name": "python3"
  },
  "language_info": {
   "codemirror_mode": {
    "name": "ipython",
    "version": 3
   },
   "file_extension": ".py",
   "mimetype": "text/x-python",
   "name": "python",
   "nbconvert_exporter": "python",
   "pygments_lexer": "ipython3",
   "version": "3.11.5"
  }
 },
 "nbformat": 4,
 "nbformat_minor": 5
}
